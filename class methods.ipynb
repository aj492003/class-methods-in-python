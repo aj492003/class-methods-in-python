{
 "cells": [
  {
   "cell_type": "code",
   "execution_count": 1,
   "id": "828fa97f-c0e6-420a-96ad-c91f5bcd5d6a",
   "metadata": {},
   "outputs": [],
   "source": [
    "class pwskills:\n",
    "    \n",
    "    def __init__(self,name,email):\n",
    "        \n",
    "        self.name = name\n",
    "        self.email = email\n",
    "        \n",
    "    def students_details(self):\n",
    "        print(self.name,self.email)"
   ]
  },
  {
   "cell_type": "code",
   "execution_count": 2,
   "id": "4cc75d83-0cbf-4d21-a9f3-5eb79fc0dce3",
   "metadata": {},
   "outputs": [],
   "source": [
    "pw = pwskills(\"aditya\",\"adi@gmail.com\")"
   ]
  },
  {
   "cell_type": "code",
   "execution_count": 3,
   "id": "ade1cc87-5301-4c53-a24e-cc6b286b25dc",
   "metadata": {},
   "outputs": [
    {
     "data": {
      "text/plain": [
       "'aditya'"
      ]
     },
     "execution_count": 3,
     "metadata": {},
     "output_type": "execute_result"
    }
   ],
   "source": [
    "pw.name"
   ]
  },
  {
   "cell_type": "code",
   "execution_count": 4,
   "id": "5f20a895-8c43-4022-b467-d04ead355646",
   "metadata": {},
   "outputs": [
    {
     "data": {
      "text/plain": [
       "'adi@gmail.com'"
      ]
     },
     "execution_count": 4,
     "metadata": {},
     "output_type": "execute_result"
    }
   ],
   "source": [
    "pw.email"
   ]
  },
  {
   "cell_type": "code",
   "execution_count": 5,
   "id": "6d92f9bd-5ebc-45a3-a38a-3a54dec579b8",
   "metadata": {},
   "outputs": [],
   "source": [
    "class pwskills1 :\n",
    "    \n",
    "    def __init__(self,name,email):\n",
    "        \n",
    "        self.name = name\n",
    "        self.email = email\n",
    "        \n",
    "    @classmethod\n",
    "    def details(cls,name,email):\n",
    "        return cls(name,email)\n",
    "        \n",
    "    def students_details(self):\n",
    "        print(self.name,self.email)"
   ]
  },
  {
   "cell_type": "code",
   "execution_count": 7,
   "id": "035f8745-ecbb-46da-ac3f-8246da610e7b",
   "metadata": {},
   "outputs": [
    {
     "data": {
      "text/plain": [
       "<__main__.pwskills1 at 0x7f41dcc11ea0>"
      ]
     },
     "execution_count": 7,
     "metadata": {},
     "output_type": "execute_result"
    }
   ],
   "source": [
    "pwskills1.details(\"ankur\",\"ankur@gmail.com\")"
   ]
  },
  {
   "cell_type": "code",
   "execution_count": 8,
   "id": "6a4cbd6e-e6c2-480e-a769-80736bcbce3f",
   "metadata": {},
   "outputs": [],
   "source": [
    "pw1 = pwskills1.details(\"ankur\",\"ankur@gmail.com\")"
   ]
  },
  {
   "cell_type": "code",
   "execution_count": 9,
   "id": "d3b6f1be-20e4-4f34-acfd-3c3b81badcda",
   "metadata": {},
   "outputs": [
    {
     "data": {
      "text/plain": [
       "'ankur'"
      ]
     },
     "execution_count": 9,
     "metadata": {},
     "output_type": "execute_result"
    }
   ],
   "source": [
    "pw1.name"
   ]
  },
  {
   "cell_type": "code",
   "execution_count": 10,
   "id": "d5743b12-dce7-4fd3-98c8-1e6f6b939458",
   "metadata": {},
   "outputs": [
    {
     "data": {
      "text/plain": [
       "'ankur@gmail.com'"
      ]
     },
     "execution_count": 10,
     "metadata": {},
     "output_type": "execute_result"
    }
   ],
   "source": [
    "pw1.email"
   ]
  },
  {
   "cell_type": "code",
   "execution_count": 19,
   "id": "9bbda80f-ee12-469e-ae0d-2b178421caac",
   "metadata": {},
   "outputs": [],
   "source": [
    "class pwskills2 :\n",
    "    \n",
    "    \n",
    "    mobile_num = 7011793539\n",
    "    \n",
    "    def __init__(self,name,email):\n",
    "        \n",
    "        self.name = name\n",
    "        self.email = email\n",
    "    @classmethod\n",
    "    def change_number(cls,mobile):\n",
    "        pwskills2.mobile_num = mobile\n",
    "        \n",
    "    @classmethod\n",
    "    def details(cls,name,email):\n",
    "        return cls(name,email)\n",
    "        \n",
    "    def students_details(self):\n",
    "        print(self.name,self.email,pwskills2.mobile_num)"
   ]
  },
  {
   "cell_type": "code",
   "execution_count": 20,
   "id": "a0d08236-bc3c-448f-ad14-2293659fc39e",
   "metadata": {},
   "outputs": [
    {
     "data": {
      "text/plain": [
       "7011793539"
      ]
     },
     "execution_count": 20,
     "metadata": {},
     "output_type": "execute_result"
    }
   ],
   "source": [
    "pwskills2.mobile_num"
   ]
  },
  {
   "cell_type": "code",
   "execution_count": 21,
   "id": "e3c8c603-bb2f-451c-975f-5651d2ed71a4",
   "metadata": {},
   "outputs": [],
   "source": [
    "pwskills2.change_number(9811815885)"
   ]
  },
  {
   "cell_type": "code",
   "execution_count": 22,
   "id": "e1f94166-4642-4cfb-aa7c-d9bdfb03162f",
   "metadata": {},
   "outputs": [
    {
     "data": {
      "text/plain": [
       "9811815885"
      ]
     },
     "execution_count": 22,
     "metadata": {},
     "output_type": "execute_result"
    }
   ],
   "source": [
    "pwskills2.mobile_num"
   ]
  },
  {
   "cell_type": "code",
   "execution_count": 23,
   "id": "843f9027-e50c-40a9-9fad-0727da9399ce",
   "metadata": {},
   "outputs": [],
   "source": [
    "pw_obj = pwskills2(\"ankur\",\"ankur@gmail.com\")"
   ]
  },
  {
   "cell_type": "code",
   "execution_count": 25,
   "id": "dbcd79c7-1a55-49c8-99ea-7d45f841e979",
   "metadata": {},
   "outputs": [
    {
     "name": "stdout",
     "output_type": "stream",
     "text": [
      "ankur ankur@gmail.com 9811815885\n"
     ]
    }
   ],
   "source": [
    "pw_obj.students_details()"
   ]
  },
  {
   "cell_type": "code",
   "execution_count": 26,
   "id": "4cba6d3c-334a-4cc9-895d-d957cebfa6f5",
   "metadata": {},
   "outputs": [],
   "source": [
    "pw = pwskills2.details(\"aditya\",\"aditya@gmail.com\")"
   ]
  },
  {
   "cell_type": "code",
   "execution_count": 27,
   "id": "0582654d-d9db-4441-ac9d-b1622048b3db",
   "metadata": {},
   "outputs": [
    {
     "name": "stdout",
     "output_type": "stream",
     "text": [
      "aditya aditya@gmail.com 9811815885\n"
     ]
    }
   ],
   "source": [
    "pw.students_details()"
   ]
  },
  {
   "cell_type": "code",
   "execution_count": 28,
   "id": "d1121ccf-2383-43f1-b2d4-87a655e6143d",
   "metadata": {},
   "outputs": [],
   "source": [
    "class pwskills3 :\n",
    "    \n",
    "    \n",
    "    mobile_num = 7011793539\n",
    "    \n",
    "    def __init__(self,name,email):\n",
    "        \n",
    "        self.name = name\n",
    "        self.email = email\n",
    "    @classmethod\n",
    "    def change_number(cls,mobile):\n",
    "        pwskills2.mobile_num = mobile\n",
    "        \n",
    "    @classmethod\n",
    "    def details(cls,name,email):\n",
    "        return cls(name,email)\n",
    "        \n",
    "    def students_details(self):\n",
    "        print(self.name,self.email,pwskills2.mobile_num)"
   ]
  },
  {
   "cell_type": "code",
   "execution_count": 29,
   "id": "1d6faddd-f86e-4f7f-b626-0e03ef346b85",
   "metadata": {},
   "outputs": [],
   "source": [
    "def course_details(cls,course,name) :\n",
    "    print(\"course name is \",course_name)"
   ]
  },
  {
   "cell_type": "code",
   "execution_count": 30,
   "id": "d63efce7-601e-4ada-a750-21cabaa38095",
   "metadata": {},
   "outputs": [],
   "source": [
    "pwskills3.course_details = classmethod(course_details)"
   ]
  },
  {
   "cell_type": "code",
   "execution_count": 33,
   "id": "e26ffdd5-bfe0-4420-b686-2d511344763a",
   "metadata": {},
   "outputs": [
    {
     "ename": "TypeError",
     "evalue": "course_details() missing 1 required positional argument: 'name'",
     "output_type": "error",
     "traceback": [
      "\u001b[0;31m---------------------------------------------------------------------------\u001b[0m",
      "\u001b[0;31mTypeError\u001b[0m                                 Traceback (most recent call last)",
      "Cell \u001b[0;32mIn[33], line 1\u001b[0m\n\u001b[0;32m----> 1\u001b[0m \u001b[43mpwskills3\u001b[49m\u001b[38;5;241;43m.\u001b[39;49m\u001b[43mcourse_details\u001b[49m\u001b[43m(\u001b[49m\u001b[38;5;124;43m\"\u001b[39;49m\u001b[38;5;124;43mdata science masters\u001b[39;49m\u001b[38;5;124;43m\"\u001b[39;49m\u001b[43m)\u001b[49m\n",
      "\u001b[0;31mTypeError\u001b[0m: course_details() missing 1 required positional argument: 'name'"
     ]
    }
   ],
   "source": [
    "pwskills3.course_details(\"data science masters\")"
   ]
  },
  {
   "cell_type": "code",
   "execution_count": 34,
   "id": "954858ba-e5b8-4351-9e86-f5cf0ddd8c97",
   "metadata": {},
   "outputs": [],
   "source": [
    "def mentor(cls,list_of_mentor):\n",
    "    print(list_of_mentor)"
   ]
  },
  {
   "cell_type": "code",
   "execution_count": 35,
   "id": "1eeae10b-9027-473c-83ef-ccc0c9a3b8ce",
   "metadata": {},
   "outputs": [],
   "source": [
    "pwskills3.mentor = classmethod(mentor)"
   ]
  },
  {
   "cell_type": "code",
   "execution_count": 36,
   "id": "e16dd2ef-5159-45b0-9904-9fbc582ddf01",
   "metadata": {},
   "outputs": [
    {
     "name": "stdout",
     "output_type": "stream",
     "text": [
      "['aj', 'ab']\n"
     ]
    }
   ],
   "source": [
    "pwskills3.mentor([\"aj\",\"ab\"])"
   ]
  },
  {
   "cell_type": "code",
   "execution_count": 37,
   "id": "eb3c1606-f000-46fb-8258-8fdc659d8047",
   "metadata": {},
   "outputs": [],
   "source": [
    "class pwskills4 :\n",
    "    \n",
    "    \n",
    "    mobile_num = 7011793539\n",
    "    \n",
    "    def __init__(self,name,email):\n",
    "        \n",
    "        self.name = name\n",
    "        self.email = email\n",
    "    @classmethod\n",
    "    def change_number(cls,mobile):\n",
    "        pwskills2.mobile_num = mobile\n",
    "        \n",
    "    @classmethod\n",
    "    def details(cls,name,email):\n",
    "        return cls(name,email)\n",
    "        \n",
    "    def students_details(self):\n",
    "        print(self.name,self.email,pwskills2.mobile_num)"
   ]
  },
  {
   "cell_type": "code",
   "execution_count": 38,
   "id": "0d66caf5-7b0d-4221-b806-8c572ee91729",
   "metadata": {},
   "outputs": [],
   "source": [
    "del pwskills4.change_number"
   ]
  },
  {
   "cell_type": "code",
   "execution_count": 39,
   "id": "cfa52261-d0e9-4689-a83c-7ccaf2c5158a",
   "metadata": {},
   "outputs": [
    {
     "ename": "AttributeError",
     "evalue": "type object 'pwskills4' has no attribute 'change_number'",
     "output_type": "error",
     "traceback": [
      "\u001b[0;31m---------------------------------------------------------------------------\u001b[0m",
      "\u001b[0;31mAttributeError\u001b[0m                            Traceback (most recent call last)",
      "Cell \u001b[0;32mIn[39], line 1\u001b[0m\n\u001b[0;32m----> 1\u001b[0m \u001b[43mpwskills4\u001b[49m\u001b[38;5;241;43m.\u001b[39;49m\u001b[43mchange_number\u001b[49m(\u001b[38;5;241m9876543210\u001b[39m)\n",
      "\u001b[0;31mAttributeError\u001b[0m: type object 'pwskills4' has no attribute 'change_number'"
     ]
    }
   ],
   "source": [
    "pwskills4.change_number(9876543210)"
   ]
  },
  {
   "cell_type": "code",
   "execution_count": 40,
   "id": "24c3aac6-f475-4bc1-bd27-3e1f2b5578a4",
   "metadata": {},
   "outputs": [],
   "source": [
    "delattr(pwskills4,\"details\")"
   ]
  },
  {
   "cell_type": "code",
   "execution_count": 41,
   "id": "105db803-1abe-4904-8ca9-51200b11c179",
   "metadata": {},
   "outputs": [],
   "source": [
    "delattr(pwskills4,\"students_details\")"
   ]
  },
  {
   "cell_type": "code",
   "execution_count": null,
   "id": "b5fd7600-01da-4578-aa45-169dd8ec6ada",
   "metadata": {},
   "outputs": [],
   "source": []
  }
 ],
 "metadata": {
  "kernelspec": {
   "display_name": "Python 3 (ipykernel)",
   "language": "python",
   "name": "python3"
  },
  "language_info": {
   "codemirror_mode": {
    "name": "ipython",
    "version": 3
   },
   "file_extension": ".py",
   "mimetype": "text/x-python",
   "name": "python",
   "nbconvert_exporter": "python",
   "pygments_lexer": "ipython3",
   "version": "3.10.8"
  }
 },
 "nbformat": 4,
 "nbformat_minor": 5
}
